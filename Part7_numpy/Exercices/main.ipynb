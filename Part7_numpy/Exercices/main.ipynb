{
 "cells": [
  {
   "cell_type": "code",
   "execution_count": 4,
   "id": "a8d97ab7-4f40-431f-b4ec-109931147e40",
   "metadata": {},
   "outputs": [],
   "source": [
    "import numpy as np "
   ]
  },
  {
   "cell_type": "code",
   "execution_count": 5,
   "id": "bcebde9d-88ef-4ce2-84b7-c26dd9a2ea80",
   "metadata": {},
   "outputs": [],
   "source": [
    "# help(np)"
   ]
  },
  {
   "cell_type": "code",
   "execution_count": 6,
   "id": "ad065bc0-5446-487d-84d0-05a12fe4d9cb",
   "metadata": {},
   "outputs": [],
   "source": [
    "# Si ce n'est pas installé il faut taper la ligne de commande suivante\n",
    "\n",
    "# pip install numpy"
   ]
  },
  {
   "cell_type": "code",
   "execution_count": 8,
   "id": "a6bcd306-20cf-4b04-b976-2feb95f628bc",
   "metadata": {},
   "outputs": [],
   "source": [
    "# print(np.sctypes)"
   ]
  },
  {
   "cell_type": "code",
   "execution_count": 10,
   "id": "39523c1b-ee98-4d55-aea4-a8eaf2ad468c",
   "metadata": {},
   "outputs": [],
   "source": [
    "a = np.array([1, 2, np.nan])"
   ]
  },
  {
   "cell_type": "code",
   "execution_count": 11,
   "id": "f3e40d0e-6ed0-42f5-88e1-887be6931cf9",
   "metadata": {},
   "outputs": [
    {
     "data": {
      "text/plain": [
       "dtype('float64')"
      ]
     },
     "execution_count": 11,
     "metadata": {},
     "output_type": "execute_result"
    }
   ],
   "source": [
    "a.dtype"
   ]
  },
  {
   "cell_type": "code",
   "execution_count": 12,
   "id": "dbc50769-bfd2-4553-95f3-701b3f817e68",
   "metadata": {},
   "outputs": [
    {
     "ename": "ValueError",
     "evalue": "could not convert string to float: 'Bonjour'",
     "output_type": "error",
     "traceback": [
      "\u001b[0;31m---------------------------------------------------------------------------\u001b[0m",
      "\u001b[0;31mValueError\u001b[0m                                Traceback (most recent call last)",
      "Cell \u001b[0;32mIn[12], line 1\u001b[0m\n\u001b[0;32m----> 1\u001b[0m \u001b[43ma\u001b[49m\u001b[43m[\u001b[49m\u001b[38;5;241;43m0\u001b[39;49m\u001b[43m]\u001b[49m \u001b[38;5;241m=\u001b[39m \u001b[38;5;124m\"\u001b[39m\u001b[38;5;124mBonjour\u001b[39m\u001b[38;5;124m\"\u001b[39m \n",
      "\u001b[0;31mValueError\u001b[0m: could not convert string to float: 'Bonjour'"
     ]
    }
   ],
   "source": [
    "# a[0] = \"Bonjour\" "
   ]
  },
  {
   "cell_type": "code",
   "execution_count": 13,
   "id": "206dea0f-9161-488c-81ce-b25c4a266718",
   "metadata": {},
   "outputs": [],
   "source": [
    "a[0] = 100"
   ]
  },
  {
   "cell_type": "code",
   "execution_count": 14,
   "id": "5f9ccdcb-4bf1-44bf-bbee-5091821693cb",
   "metadata": {},
   "outputs": [
    {
     "data": {
      "text/plain": [
       "array([100.,   2.,  nan])"
      ]
     },
     "execution_count": 14,
     "metadata": {},
     "output_type": "execute_result"
    }
   ],
   "source": [
    "a"
   ]
  },
  {
   "cell_type": "code",
   "execution_count": 17,
   "id": "69b50f36-14ae-4115-991f-33342a7b3711",
   "metadata": {},
   "outputs": [],
   "source": [
    "b = np.array([\"Big data\", \"Python\", \"Pandas\"])"
   ]
  },
  {
   "cell_type": "code",
   "execution_count": 18,
   "id": "b2867400-1c37-474e-97cf-92d9bb73ca49",
   "metadata": {},
   "outputs": [
    {
     "data": {
      "text/plain": [
       "dtype('<U8')"
      ]
     },
     "execution_count": 18,
     "metadata": {},
     "output_type": "execute_result"
    }
   ],
   "source": [
    "b.dtype"
   ]
  },
  {
   "cell_type": "code",
   "execution_count": 19,
   "id": "e1d76d0f-23e4-4d38-9c06-bf592a14b437",
   "metadata": {},
   "outputs": [
    {
     "data": {
      "text/plain": [
       "'Big data'"
      ]
     },
     "execution_count": 19,
     "metadata": {},
     "output_type": "execute_result"
    }
   ],
   "source": [
    "b[0]"
   ]
  },
  {
   "cell_type": "code",
   "execution_count": 20,
   "id": "f296a688-0913-4667-9828-b3f33ec99141",
   "metadata": {},
   "outputs": [],
   "source": [
    "b[0] = 'Le big data est top' "
   ]
  },
  {
   "cell_type": "code",
   "execution_count": 21,
   "id": "f96b599d-003f-4a3b-96b0-a322b52c2a62",
   "metadata": {},
   "outputs": [
    {
     "data": {
      "text/plain": [
       "array(['Le big d', 'Python', 'Pandas'], dtype='<U8')"
      ]
     },
     "execution_count": 21,
     "metadata": {},
     "output_type": "execute_result"
    }
   ],
   "source": [
    "b"
   ]
  },
  {
   "cell_type": "code",
   "execution_count": 25,
   "id": "3df12efe-38ef-4c33-b327-4e8227b72d8a",
   "metadata": {},
   "outputs": [],
   "source": [
    "d = np.array([\"Big data\", \"Python\", \"Pandas\"], dtype='<U28')"
   ]
  },
  {
   "cell_type": "code",
   "execution_count": 26,
   "id": "bd8bba83-c1f6-4e46-9a38-da963fe49b20",
   "metadata": {},
   "outputs": [],
   "source": [
    "d[0] = 'Le big data est top' "
   ]
  },
  {
   "cell_type": "code",
   "execution_count": 27,
   "id": "d702a223-59e0-4404-b2f3-d329d68bcfba",
   "metadata": {},
   "outputs": [
    {
     "data": {
      "text/plain": [
       "array(['Le big data est top', 'Python', 'Pandas'], dtype='<U28')"
      ]
     },
     "execution_count": 27,
     "metadata": {},
     "output_type": "execute_result"
    }
   ],
   "source": [
    "d"
   ]
  },
  {
   "cell_type": "code",
   "execution_count": 28,
   "id": "cec490cd-fd74-42fc-b734-0feedcf87ee2",
   "metadata": {},
   "outputs": [],
   "source": [
    "dt = np.dtype([\n",
    "    ('name', np.dtype('U14')), ('grades', np.float64) \n",
    "])"
   ]
  },
  {
   "cell_type": "code",
   "execution_count": 29,
   "id": "27b36a76-a7c8-414c-a41b-b8803ff40f81",
   "metadata": {},
   "outputs": [
    {
     "data": {
      "text/plain": [
       "dtype([('name', '<U14'), ('grades', '<f8')])"
      ]
     },
     "execution_count": 29,
     "metadata": {},
     "output_type": "execute_result"
    }
   ],
   "source": [
    "dt"
   ]
  },
  {
   "cell_type": "code",
   "execution_count": 30,
   "id": "00c79fc7-930e-4787-b44f-d309ecc12191",
   "metadata": {},
   "outputs": [],
   "source": [
    "dataset = np.array([\n",
    "      ( \"Luce du Coulon\" , 12.5),\n",
    "      ( \"Auguste Dupont\", 8.5),\n",
    "      ( \"Roger Le Voisi\", 1.5)\n",
    "], dtype=dt)"
   ]
  },
  {
   "cell_type": "code",
   "execution_count": 31,
   "id": "e9199e20-efb8-4a5c-a2e5-1f23d16f285f",
   "metadata": {},
   "outputs": [
    {
     "data": {
      "text/plain": [
       "dtype([('name', '<U14'), ('grades', '<f8')])"
      ]
     },
     "execution_count": 31,
     "metadata": {},
     "output_type": "execute_result"
    }
   ],
   "source": [
    "dataset.dtype"
   ]
  },
  {
   "cell_type": "code",
   "execution_count": 32,
   "id": "c0f34480-291b-40e5-ba6d-cad21eb21172",
   "metadata": {},
   "outputs": [
    {
     "data": {
      "text/plain": [
       "array([('Luce du Coulon', 12.5), ('Auguste Dupont',  8.5),\n",
       "       ('Roger Le Voisi',  1.5)],\n",
       "      dtype=[('name', '<U14'), ('grades', '<f8')])"
      ]
     },
     "execution_count": 32,
     "metadata": {},
     "output_type": "execute_result"
    }
   ],
   "source": [
    "dataset"
   ]
  },
  {
   "cell_type": "code",
   "execution_count": 46,
   "id": "8303787e-0425-4219-8f83-357f32db1b56",
   "metadata": {},
   "outputs": [],
   "source": [
    "notes = np.array( [ n for c, n in dataset ], dtype=np.float32)"
   ]
  },
  {
   "cell_type": "code",
   "execution_count": 47,
   "id": "166e6395-39e7-4f79-b247-2086e169a86f",
   "metadata": {},
   "outputs": [
    {
     "data": {
      "text/plain": [
       "22.5"
      ]
     },
     "execution_count": 47,
     "metadata": {},
     "output_type": "execute_result"
    }
   ],
   "source": [
    "notes.sum()"
   ]
  },
  {
   "cell_type": "code",
   "execution_count": 48,
   "id": "093ffb7e-9a7a-4517-8727-33ec12329f05",
   "metadata": {},
   "outputs": [
    {
     "data": {
      "text/plain": [
       "dtype('float32')"
      ]
     },
     "execution_count": 48,
     "metadata": {},
     "output_type": "execute_result"
    }
   ],
   "source": [
    "notes.dtype"
   ]
  },
  {
   "cell_type": "code",
   "execution_count": 41,
   "id": "c356799e-bd1d-4c2f-a5f7-226ca1cab93c",
   "metadata": {},
   "outputs": [
    {
     "data": {
      "text/plain": [
       "{'int': [numpy.int8, numpy.int16, numpy.int32, numpy.int64],\n",
       " 'uint': [numpy.uint8, numpy.uint16, numpy.uint32, numpy.uint64],\n",
       " 'float': [numpy.float16, numpy.float32, numpy.float64, numpy.longdouble],\n",
       " 'complex': [numpy.complex64, numpy.complex128, numpy.clongdouble],\n",
       " 'others': [bool, object, bytes, str, numpy.void]}"
      ]
     },
     "execution_count": 41,
     "metadata": {},
     "output_type": "execute_result"
    }
   ],
   "source": [
    "np.sctypes"
   ]
  },
  {
   "cell_type": "code",
   "execution_count": 51,
   "id": "e21e5aad-ae47-4c17-9f07-ea4444adc02d",
   "metadata": {},
   "outputs": [
    {
     "name": "stdout",
     "output_type": "stream",
     "text": [
      "info sur les types\n"
     ]
    }
   ],
   "source": [
    "\"\"\"\n",
    "for k in np.sctypes:\n",
    "    print( k, np.sctypes[k] )\n",
    "    print()\n",
    "\"\"\"\n",
    "print(\"info sur les types\" )"
   ]
  },
  {
   "cell_type": "code",
   "execution_count": 53,
   "id": "806dcbb6-2b57-4efc-9320-b1a30595fecf",
   "metadata": {},
   "outputs": [],
   "source": [
    "z = np.zeros(3)"
   ]
  },
  {
   "cell_type": "code",
   "execution_count": 54,
   "id": "541d2f45-767b-4627-aed6-e8fa54b6636f",
   "metadata": {},
   "outputs": [
    {
     "data": {
      "text/plain": [
       "dtype('float64')"
      ]
     },
     "execution_count": 54,
     "metadata": {},
     "output_type": "execute_result"
    }
   ],
   "source": [
    "z.dtype"
   ]
  },
  {
   "cell_type": "code",
   "execution_count": 55,
   "id": "263bf78b-a270-46f6-9b8a-a7d5c35e1957",
   "metadata": {},
   "outputs": [
    {
     "data": {
      "text/plain": [
       "array([0., 0., 0.])"
      ]
     },
     "execution_count": 55,
     "metadata": {},
     "output_type": "execute_result"
    }
   ],
   "source": [
    "z"
   ]
  },
  {
   "cell_type": "code",
   "execution_count": 56,
   "id": "cbdcf629-4df2-4e61-ac3f-b9c30fe5eea9",
   "metadata": {},
   "outputs": [],
   "source": [
    "z[0] = 1_000_000"
   ]
  },
  {
   "cell_type": "code",
   "execution_count": 57,
   "id": "3e291e87-56f8-499f-874c-b8feb9faab71",
   "metadata": {},
   "outputs": [
    {
     "data": {
      "text/plain": [
       "array([1000000.,       0.,       0.])"
      ]
     },
     "execution_count": 57,
     "metadata": {},
     "output_type": "execute_result"
    }
   ],
   "source": [
    "z"
   ]
  },
  {
   "cell_type": "code",
   "execution_count": 59,
   "id": "9ea1a9c9-188b-4682-be7c-daec03fdf63b",
   "metadata": {},
   "outputs": [],
   "source": [
    "# Tableau 6 lignes et 2 colonnes\n",
    "tmp = np.empty((6, 2), dtype='float32')"
   ]
  },
  {
   "cell_type": "code",
   "execution_count": 60,
   "id": "19ff885e-6c85-4734-8add-b148b5d6ff12",
   "metadata": {},
   "outputs": [
    {
     "data": {
      "text/plain": [
       "array([[2.1122846e+08, 3.0738883e-41],\n",
       "       [0.0000000e+00, 0.0000000e+00],\n",
       "       [1.5974802e-43, 4.4841551e-44],\n",
       "       [1.0649868e-43, 1.4153114e-43],\n",
       "       [4.4841551e-44, 1.2051167e-43],\n",
       "       [1.5554413e-43, 1.4713634e-43]], dtype=float32)"
      ]
     },
     "execution_count": 60,
     "metadata": {},
     "output_type": "execute_result"
    }
   ],
   "source": [
    "tmp"
   ]
  },
  {
   "cell_type": "code",
   "execution_count": 62,
   "id": "68150f06-ccca-44a0-bc45-7c26eae2948c",
   "metadata": {},
   "outputs": [],
   "source": [
    "z = np.zeros(10)"
   ]
  },
  {
   "cell_type": "code",
   "execution_count": 63,
   "id": "1c1cd0c0-5122-4bc9-a591-f790ea49c722",
   "metadata": {},
   "outputs": [],
   "source": [
    "numbers = np.array( [ n for n in range(1, 11) ])"
   ]
  },
  {
   "cell_type": "code",
   "execution_count": 64,
   "id": "aa9432c3-f5d1-444b-b9d6-9033efdf97c2",
   "metadata": {},
   "outputs": [
    {
     "data": {
      "text/plain": [
       "array([ 1,  2,  3,  4,  5,  6,  7,  8,  9, 10])"
      ]
     },
     "execution_count": 64,
     "metadata": {},
     "output_type": "execute_result"
    }
   ],
   "source": [
    "numbers"
   ]
  },
  {
   "cell_type": "markdown",
   "id": "ae9df446-67d1-4a7f-bf42-fd541238047a",
   "metadata": {},
   "source": [
    "Exercice \n",
    "\n",
    "Ajoutez au tableau z 2 quand le nombre est paire et 1 quand il est impaire respectivement pour les valeurs de numbers.\n"
   ]
  },
  {
   "cell_type": "code",
   "execution_count": 66,
   "id": "43d95e83-08a2-4a60-95ba-3867c0aa2afe",
   "metadata": {},
   "outputs": [
    {
     "name": "stdout",
     "output_type": "stream",
     "text": [
      "[1. 2. 1. 2. 1. 2. 1. 2. 1. 2.]\n"
     ]
    }
   ],
   "source": [
    "for i, number in enumerate(numbers):\n",
    "    if number % 2 : \n",
    "        z[i] = 1\n",
    "    else:\n",
    "        z[i] = 2\n",
    "\n",
    "print(z)"
   ]
  },
  {
   "cell_type": "code",
   "execution_count": 67,
   "id": "57c55085-09b1-4705-8771-149d25120b33",
   "metadata": {},
   "outputs": [],
   "source": [
    "z = np.zeros(10)\n",
    "\n",
    "change = lambda n : 2 if n % 2 else 1\n",
    "\n",
    "# Initialiser un tableau numpy z avec des zéros\n",
    "numbers = np.array( [ n for n in range(1, 11) ] )\n",
    "\n",
    "# Définir une fonction lambda (par exemple, doubler chaque élément)\n",
    "change = np.vectorize(lambda n : 2. if n % 2 else 1.)\n",
    "\n",
    "# Appliquer la fonction lambda au tableau z\n",
    "resultat = change(numbers)\n",
    "\n",
    "# Afficher le résultat\n",
    "print(resultat)"
   ]
  },
  {
   "cell_type": "code",
   "execution_count": 144,
   "id": "63d5ec0d-794b-4ef1-a36f-2a7fb9bf9bc3",
   "metadata": {},
   "outputs": [],
   "source": [
    "# Attention le code ci-dessous crée une matrice avec des valeurs aléatoires\n",
    "# m = np.random.randint(10, size=(10,10))\n",
    "\n",
    "m = np.array([[4, 3, 8, 5, 2, 2, 0, 1, 8, 6],\n",
    "       [1, 7, 6, 2, 7, 0, 1, 6, 1, 1],\n",
    "       [7, 2, 8, 0, 8, 2, 5, 8, 3, 7],\n",
    "       [6, 5, 7, 8, 2, 2, 2, 9, 2, 3],\n",
    "       [6, 4, 3, 6, 6, 6, 9, 5, 8, 2],\n",
    "       [0, 2, 9, 0, 4, 5, 3, 4, 0, 1],\n",
    "       [0, 3, 5, 1, 4, 6, 0, 4, 5, 6],\n",
    "       [0, 3, 5, 7, 4, 9, 3, 7, 4, 8],\n",
    "       [1, 3, 1, 2, 9, 4, 4, 9, 5, 4],\n",
    "       [6, 5, 0, 0, 1, 7, 9, 0, 9, 5]])"
   ]
  },
  {
   "cell_type": "code",
   "execution_count": 145,
   "id": "f3266abe-59ef-4d7d-81b1-40057a226f94",
   "metadata": {},
   "outputs": [
    {
     "data": {
      "text/plain": [
       "array([[4, 3, 8, 5, 2, 2, 0, 1, 8, 6],\n",
       "       [1, 7, 6, 2, 7, 0, 1, 6, 1, 1],\n",
       "       [7, 2, 8, 0, 8, 2, 5, 8, 3, 7],\n",
       "       [6, 5, 7, 8, 2, 2, 2, 9, 2, 3],\n",
       "       [6, 4, 3, 6, 6, 6, 9, 5, 8, 2],\n",
       "       [0, 2, 9, 0, 4, 5, 3, 4, 0, 1],\n",
       "       [0, 3, 5, 1, 4, 6, 0, 4, 5, 6],\n",
       "       [0, 3, 5, 7, 4, 9, 3, 7, 4, 8],\n",
       "       [1, 3, 1, 2, 9, 4, 4, 9, 5, 4],\n",
       "       [6, 5, 0, 0, 1, 7, 9, 0, 9, 5]])"
      ]
     },
     "execution_count": 145,
     "metadata": {},
     "output_type": "execute_result"
    }
   ],
   "source": [
    "m"
   ]
  },
  {
   "cell_type": "markdown",
   "id": "4ca0dcfa-fa4d-4165-88af-b2319094223e",
   "metadata": {},
   "source": [
    "Exercice \n",
    "\n",
    "1. Calculez la somme des valeurs en colonne.\n",
    "1. Calculez la somme des valeurs en ligne.\n",
    "1. Calculez la somme des valeurs en diagonale.\n",
    "\n",
    "```python\n",
    "data = np.array([[4, 3, 8, 5, 2, 2, 0, 1, 8, 6],\n",
    "       [1, 7, 6, 2, 7, 0, 1, 6, 1, 1],\n",
    "       [7, 2, 8, 0, 8, 2, 5, 8, 3, 7],\n",
    "       [6, 5, 7, 8, 2, 2, 2, 9, 2, 3],\n",
    "       [6, 4, 3, 6, 6, 6, 9, 5, 8, 2],\n",
    "       [0, 2, 9, 0, 4, 5, 3, 4, 0, 1],\n",
    "       [0, 3, 5, 1, 4, 6, 0, 4, 5, 6],\n",
    "       [0, 3, 5, 7, 4, 9, 3, 7, 4, 8],\n",
    "       [1, 3, 1, 2, 9, 4, 4, 9, 5, 4],\n",
    "       [6, 5, 0, 0, 1, 7, 9, 0, 9, 5]])\n",
    "```\n"
   ]
  },
  {
   "cell_type": "code",
   "execution_count": 146,
   "id": "d98cc59c-9a33-47ae-934a-cb39319281bd",
   "metadata": {},
   "outputs": [
    {
     "data": {
      "text/plain": [
       "418"
      ]
     },
     "execution_count": 146,
     "metadata": {},
     "output_type": "execute_result"
    }
   ],
   "source": [
    "# somme total des lignes et colonne\n",
    "m.sum()"
   ]
  },
  {
   "cell_type": "code",
   "execution_count": 147,
   "id": "f5b205e5-e4b8-4dc9-99b5-df4be008f989",
   "metadata": {},
   "outputs": [
    {
     "name": "stdout",
     "output_type": "stream",
     "text": [
      "[31 37 52 31 47 43 36 53 45 43]\n",
      "[39 32 50 46 55 28 34 50 42 42]\n"
     ]
    }
   ],
   "source": [
    "# Somme des colonnes\n",
    "sc = np.sum(m, axis=0)\n",
    "print(sc)\n",
    "# Somme des lignes\n",
    "sr = np.sum(m, axis=1)\n",
    "print(sr)"
   ]
  },
  {
   "cell_type": "code",
   "execution_count": 148,
   "id": "ccb7b608-f597-47c2-abde-4a8299f7e42e",
   "metadata": {},
   "outputs": [
    {
     "data": {
      "text/plain": [
       "55"
      ]
     },
     "execution_count": 148,
     "metadata": {},
     "output_type": "execute_result"
    }
   ],
   "source": [
    "# trace\n",
    "np.trace(m)"
   ]
  },
  {
   "cell_type": "code",
   "execution_count": 149,
   "id": "66b6971c-7aa6-43d4-8cb8-d210cddf41a1",
   "metadata": {},
   "outputs": [
    {
     "data": {
      "text/plain": [
       "array([[4, 3, 8, 5, 2, 2, 0, 1, 8, 6],\n",
       "       [1, 7, 6, 2, 7, 0, 1, 6, 1, 1],\n",
       "       [7, 2, 8, 0, 8, 2, 5, 8, 3, 7],\n",
       "       [6, 5, 7, 8, 2, 2, 2, 9, 2, 3],\n",
       "       [6, 4, 3, 6, 6, 6, 9, 5, 8, 2],\n",
       "       [0, 2, 9, 0, 4, 5, 3, 4, 0, 1],\n",
       "       [0, 3, 5, 1, 4, 6, 0, 4, 5, 6],\n",
       "       [0, 3, 5, 7, 4, 9, 3, 7, 4, 8],\n",
       "       [1, 3, 1, 2, 9, 4, 4, 9, 5, 4],\n",
       "       [6, 5, 0, 0, 1, 7, 9, 0, 9, 5]])"
      ]
     },
     "execution_count": 149,
     "metadata": {},
     "output_type": "execute_result"
    }
   ],
   "source": [
    "m"
   ]
  },
  {
   "cell_type": "code",
   "execution_count": 150,
   "id": "f135a2b9-aa15-460f-a952-ed30e1555f33",
   "metadata": {},
   "outputs": [
    {
     "data": {
      "text/plain": [
       "55"
      ]
     },
     "execution_count": 150,
     "metadata": {},
     "output_type": "execute_result"
    }
   ],
   "source": [
    "np.trace( m )"
   ]
  },
  {
   "cell_type": "code",
   "execution_count": 151,
   "id": "2b9d6e7c-b43b-4eb9-af9b-29eb76013931",
   "metadata": {},
   "outputs": [
    {
     "data": {
      "text/plain": [
       "42"
      ]
     },
     "execution_count": 151,
     "metadata": {},
     "output_type": "execute_result"
    }
   ],
   "source": [
    "# approche slicing\n",
    "np.trace( m[::-1] )"
   ]
  },
  {
   "cell_type": "markdown",
   "id": "7617e9a7-57d3-4530-ac7b-3e61cb1076c9",
   "metadata": {},
   "source": [
    "Exercice\n",
    "\n",
    "Pour la matrice m ci-dessus.\n",
    "\n",
    "1. Faites la somme des lignes paires.\n",
    "1. Créez une nouvelle matrice en élimimant les lignes dont la somme est pair."
   ]
  },
  {
   "cell_type": "code",
   "execution_count": 152,
   "id": "d81ad896-854f-4820-a3b9-5a463b6643a8",
   "metadata": {},
   "outputs": [],
   "source": [
    "sr = np.sum(m[::2], axis=1)"
   ]
  },
  {
   "cell_type": "code",
   "execution_count": 153,
   "id": "014b31fb-e304-47e0-8129-627db51b20fa",
   "metadata": {},
   "outputs": [
    {
     "name": "stdout",
     "output_type": "stream",
     "text": [
      "[39 50 55 34 42]\n",
      "220\n",
      "220\n"
     ]
    }
   ],
   "source": [
    "# sommes des lignes paires\n",
    "print(sr)\n",
    "# somme totale des lignes\n",
    "print( sr.sum() )\n",
    "\n",
    "# pour le total on peut aller plus vite \n",
    "total = np.sum(m[::2], axis=1).sum()\n",
    "print(total)"
   ]
  },
  {
   "cell_type": "code",
   "execution_count": 154,
   "id": "25e08f13-6797-4fc6-be5e-f7e993121eec",
   "metadata": {},
   "outputs": [
    {
     "name": "stdout",
     "output_type": "stream",
     "text": [
      "[ 3 27]\n",
      "[ 9 21]\n"
     ]
    }
   ],
   "source": [
    "\"\"\"\n",
    "Rappel pour préciser les axes dans les sommes \n",
    "axis = 0 colonnes et axis = 1 les lignes\n",
    "\"\"\"\n",
    "\n",
    "mtest = np.array( [ [1, 2] , [ 8, 19 ] ] ) \n",
    "\n",
    "# somme des lignes\n",
    "print(np.sum(mtest, axis=1) )\n",
    "# somme des colonnes\n",
    "print(np.sum(mtest, axis=0) )"
   ]
  },
  {
   "cell_type": "code",
   "execution_count": 155,
   "id": "8921fe84-02bc-46f1-8647-59dbd7d8b550",
   "metadata": {},
   "outputs": [
    {
     "name": "stdout",
     "output_type": "stream",
     "text": [
      "[False  True  True  True False  True  True  True  True  True]\n"
     ]
    },
    {
     "data": {
      "text/plain": [
       "array([[1, 7, 6, 2, 7, 0, 1, 6, 1, 1],\n",
       "       [7, 2, 8, 0, 8, 2, 5, 8, 3, 7],\n",
       "       [6, 5, 7, 8, 2, 2, 2, 9, 2, 3],\n",
       "       [0, 2, 9, 0, 4, 5, 3, 4, 0, 1],\n",
       "       [0, 3, 5, 1, 4, 6, 0, 4, 5, 6],\n",
       "       [0, 3, 5, 7, 4, 9, 3, 7, 4, 8],\n",
       "       [1, 3, 1, 2, 9, 4, 4, 9, 5, 4],\n",
       "       [6, 5, 0, 0, 1, 7, 9, 0, 9, 5]])"
      ]
     },
     "execution_count": 155,
     "metadata": {},
     "output_type": "execute_result"
    }
   ],
   "source": [
    "sums = np.sum(m, axis=1)\n",
    "mask = sums % 2 == 0 \n",
    "# s'appliquera par ligne \n",
    "print( mask )\n",
    "m[ mask ]"
   ]
  },
  {
   "cell_type": "code",
   "execution_count": 123,
   "id": "2863b3cc-1602-4060-bde3-fb50f6038812",
   "metadata": {},
   "outputs": [
    {
     "data": {
      "text/plain": [
       "array([[4, 3, 8, 5, 2, 2, 0, 1, 8, 6],\n",
       "       [1, 7, 6, 2, 7, 0, 1, 6, 1, 1],\n",
       "       [7, 2, 8, 0, 8, 2, 5, 8, 3, 7],\n",
       "       [6, 5, 7, 8, 2, 2, 2, 9, 2, 3],\n",
       "       [6, 4, 3, 6, 6, 6, 9, 5, 8, 2],\n",
       "       [0, 2, 9, 0, 4, 5, 3, 4, 0, 1],\n",
       "       [0, 3, 5, 1, 4, 6, 0, 4, 5, 6],\n",
       "       [0, 3, 5, 7, 4, 9, 3, 7, 4, 8],\n",
       "       [1, 3, 1, 2, 9, 4, 4, 9, 5, 4],\n",
       "       [6, 5, 0, 0, 1, 7, 9, 0, 9, 5]])"
      ]
     },
     "execution_count": 123,
     "metadata": {},
     "output_type": "execute_result"
    }
   ],
   "source": [
    "m"
   ]
  },
  {
   "cell_type": "code",
   "execution_count": 156,
   "id": "5c4171e9-b38d-41d2-a311-e47708e4dd14",
   "metadata": {},
   "outputs": [],
   "source": [
    "# dimension 3\n",
    "m3 = np.array([\n",
    "       [[10, 11, 12], [13, 14, 15], [16, 17, 18]], # matrix 0\n",
    "       [[20, 21, 22], [23, 24, 25], [26, 27, 28]],\n",
    "       [[30, 31, 32], [33, 34, 35], [36, 37, 38]]\n",
    "])"
   ]
  },
  {
   "cell_type": "code",
   "execution_count": 157,
   "id": "9defdf48-7d6c-4d9f-8209-337ce5f35d47",
   "metadata": {},
   "outputs": [
    {
     "data": {
      "text/plain": [
       "array([[[10, 11, 12],\n",
       "        [13, 14, 15],\n",
       "        [16, 17, 18]],\n",
       "\n",
       "       [[20, 21, 22],\n",
       "        [23, 24, 25],\n",
       "        [26, 27, 28]],\n",
       "\n",
       "       [[30, 31, 32],\n",
       "        [33, 34, 35],\n",
       "        [36, 37, 38]]])"
      ]
     },
     "execution_count": 157,
     "metadata": {},
     "output_type": "execute_result"
    }
   ],
   "source": [
    "m3"
   ]
  },
  {
   "cell_type": "markdown",
   "id": "61582a16-8773-4e33-b621-b65f894f3b43",
   "metadata": {},
   "source": [
    "Exercice\n",
    "1. Faites la somme de la première et la dernière matrice.\n",
    "1. Faites la somme la deuxième colonne de chaque matrice.\n",
    "1. Faites la somme des deux derniers nombres de la deuxième colonne de chaque matrice."
   ]
  },
  {
   "cell_type": "code",
   "execution_count": 159,
   "id": "4313a455-4ea0-41c6-93e1-79bb13ad9709",
   "metadata": {},
   "outputs": [
    {
     "data": {
      "text/plain": [
       "432"
      ]
     },
     "execution_count": 159,
     "metadata": {},
     "output_type": "execute_result"
    }
   ],
   "source": [
    "# 1.\n",
    "total = (m3[0] + m3[-1::]).sum()"
   ]
  },
  {
   "cell_type": "code",
   "execution_count": 161,
   "id": "a6d21225-0329-4e02-956a-b90cd7bcc360",
   "metadata": {},
   "outputs": [
    {
     "data": {
      "text/plain": [
       "216"
      ]
     },
     "execution_count": 161,
     "metadata": {},
     "output_type": "execute_result"
    }
   ],
   "source": [
    "# 2.\n",
    "m3[:, : , 1].sum()"
   ]
  },
  {
   "cell_type": "code",
   "execution_count": 162,
   "id": "4f42ea17-e54d-4b0e-b893-6931276d28bf",
   "metadata": {},
   "outputs": [
    {
     "data": {
      "text/plain": [
       "153"
      ]
     },
     "execution_count": 162,
     "metadata": {},
     "output_type": "execute_result"
    }
   ],
   "source": [
    "# 3.\n",
    "m3[:, -2::, 1].sum()"
   ]
  },
  {
   "cell_type": "code",
   "execution_count": null,
   "id": "da17ada3-29d1-42a2-8bf0-101def1b9dc8",
   "metadata": {},
   "outputs": [],
   "source": []
  }
 ],
 "metadata": {
  "kernelspec": {
   "display_name": "Python 3 (ipykernel)",
   "language": "python",
   "name": "python3"
  },
  "language_info": {
   "codemirror_mode": {
    "name": "ipython",
    "version": 3
   },
   "file_extension": ".py",
   "mimetype": "text/x-python",
   "name": "python",
   "nbconvert_exporter": "python",
   "pygments_lexer": "ipython3",
   "version": "3.11.6"
  }
 },
 "nbformat": 4,
 "nbformat_minor": 5
}
